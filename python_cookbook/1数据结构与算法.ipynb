{
 "cells": [
  {
   "cell_type": "markdown",
   "execution_count": null,
   "metadata": {},
   "outputs": [],
   "source": [
    "## 1.1 解压序列赋值给多个变量\n",
    "问题\n",
    "\n",
    "现在有一个包含 N 个元素的元组或者是序列，怎样将它里面的值解压后同时赋值 给 N 个变量？\n",
    "\n",
    "解决方案\n",
    "\n",
    "任何的序列（或者是可迭代对象）可以通过一个简单的赋值语句解压并赋值给多 个变量。唯一的前提就是变量的数量必须跟序列元素的数量是一样的。"
   ]
  },
  {
   "cell_type": "code",
   "execution_count": 1,
   "metadata": {},
   "outputs": [],
   "source": [
    "data = ['asdf', 32, 88.3, (2012, 12, 21)]\n",
    "_, share, _, (year, month, day) = data"
   ]
  },
  {
   "cell_type": "code",
   "execution_count": 2,
   "metadata": {},
   "outputs": [
    {
     "data": {
      "text/plain": "21"
     },
     "execution_count": 2,
     "metadata": {},
     "output_type": "execute_result"
    }
   ],
   "source": [
    "day"
   ]
  },
  {
   "cell_type": "markdown",
   "execution_count": null,
   "metadata": {},
   "outputs": [],
   "source": [
    "## 1.2 解压可迭代对象赋值给多个变量\n",
    "**？** 如果一个可迭代对象的元素超过变量个数时， 会抛出一个valueerror。 那么怎么样才能从这个可迭代对象中解压出N个元素出来？\n",
    "**-** Python 的 星号表达式可以来解决。比如，你在学一门课程，在学期末的时候你想统计一下家庭作业的平均成绩，但是排除掉第一个和最后一个分数。 如果一共四个可以手动排除，但如果有24个呢？ then * works\n"
   ]
  },
  {
   "cell_type": "code",
   "execution_count": 3,
   "metadata": {},
   "outputs": [],
   "source": [
    "def drop_first_last(grades):\n",
    "    first, *middle, last = grades\n",
    "    #first, **middle, lsat = grade\n",
    "    return middle\n",
    "\n",
    "midlle= drop_first_last({'toe':11,'sdf': 22,'FD': 33, 'dsf':44,'dsf': 55})"
   ]
  },
  {
   "cell_type": "code",
   "execution_count": 6,
   "metadata": {},
   "outputs": [
    {
     "data": {
      "text/plain": "['sdf', 'FD']"
     },
     "execution_count": 6,
     "metadata": {},
     "output_type": "execute_result"
    }
   ],
   "source": [
    "midlle"
   ]
  },
  {
   "cell_type": "markdown",
   "execution_count": null,
   "metadata": {},
   "outputs": [],
   "source": [
    "* work in 迭代元素为可变长元祖的序列时，下面是一个带有标签的元祖序列"
   ]
  },
  {
   "cell_type": "code",
   "execution_count": 7,
   "metadata": {},
   "outputs": [
    {
     "name": "stdout",
     "output_type": "stream",
     "text": "foo 1 2 2 3 4\nbar hello s sdf ('dfs', 1)\nfoo 6 6\n"
    }
   ],
   "source": [
    "records = [\n",
    "    ('foo', 1, 2,2, 3, 4),\n",
    "    ('bar', 'hello', 's', 'sdf',('dfs',1)),\n",
    "    ('foo', 6, 6),\n",
    "]\n",
    "\n",
    "def def_foo(*x):\n",
    "    print('foo',*x)\n",
    "def def_bar(*s):\n",
    "    print('bar',*s)\n",
    "    \n",
    "for tag, *tags in records:\n",
    "    if tag == 'foo':\n",
    "        def_foo(*tags)\n",
    "    elif tag == 'bar':\n",
    "        def_bar(*tags)"
   ]
  },
  {
   "cell_type": "code",
   "execution_count": 8,
   "metadata": {},
   "outputs": [],
   "source": [
    "line = 'nobody:*:-2:-2:Unprivileged User:/var/empty:/usr/bin/false:sdfdf/'\n",
    "\n",
    "uname, *fields, homedir,ssh,  sh = line.split('/')"
   ]
  },
  {
   "cell_type": "code",
   "execution_count": 9,
   "metadata": {},
   "outputs": [
    {
     "data": {
      "text/plain": "'bin'"
     },
     "execution_count": 9,
     "metadata": {},
     "output_type": "execute_result"
    }
   ],
   "source": [
    "homedir"
   ]
  },
  {
   "cell_type": "code",
   "execution_count": 10,
   "metadata": {},
   "outputs": [],
   "source": [
    "record = (('ACME',2,33,'sdf'), 50, 123.45,'sdf',1, 'sdf',2,(12, 18,23,'dsf', 2012))\n",
    "(name,*_), *_, (*_, year) =record"
   ]
  },
  {
   "cell_type": "code",
   "execution_count": 11,
   "metadata": {},
   "outputs": [
    {
     "data": {
      "text/plain": "2012"
     },
     "execution_count": 11,
     "metadata": {},
     "output_type": "execute_result"
    }
   ],
   "source": [
    "year"
   ]
  },
  {
   "cell_type": "markdown",
   "execution_count": null,
   "metadata": {},
   "outputs": [],
   "source": [
    "use * 可以很快将一个列表分成前后俩个部分"
   ]
  },
  {
   "cell_type": "code",
   "execution_count": 12,
   "metadata": {},
   "outputs": [],
   "source": [
    "items = [1, 10, 7, 4,5,9]\n",
    "head, *tail = items"
   ]
  },
  {
   "cell_type": "code",
   "execution_count": 13,
   "metadata": {},
   "outputs": [
    {
     "data": {
      "text/plain": "[10, 7, 4, 5, 9]"
     },
     "execution_count": 13,
     "metadata": {},
     "output_type": "execute_result"
    }
   ],
   "source": [
    "tail"
   ]
  },
  {
   "cell_type": "markdown",
   "execution_count": null,
   "metadata": {},
   "outputs": [],
   "source": [
    "采用这种分割语法实现递归算法"
   ]
  },
  {
   "cell_type": "raw",
   "execution_count": null,
   "metadata": {},
   "outputs": [],
   "source": [
    "import sys\n",
    "sys.setrecursionlimit(1000000)\n",
    "def sum(tiems):\n",
    "    head, *tail = items\n",
    "    return head + sum(tail) if tail else head\n",
    "sum(items)"
   ]
  },
  {
   "cell_type": "markdown",
   "execution_count": null,
   "metadata": {},
   "outputs": [],
   "source": [
    "## 1.3 保留最后N个元素\n",
    "问题\n",
    "\n",
    "在迭代操作或者其他操作的时候，怎样只保留最后有限几个元素的历史记录？\n",
    "\n",
    "解决方案\n",
    "\n",
    "保留有限历史记录正是 collections.deque 大显身手的时候。比如，下面的代码 在多行上面做简单的文本匹配，并返回匹配所在行的最后 N 行："
   ]
  },
  {
   "cell_type": "code",
   "execution_count": 14,
   "metadata": {},
   "outputs": [
    {
     "name": "stdout",
     "output_type": "stream",
     "text": "pline /Users/distiller/miniconda3/conda-bld/torchvision_1578960661153/work/torchvision/csrc/cpu/nms_cpu.cpp\npline test/test_backbone_utils.py\npline test/test_cpp_models.py\npline test/test_datasets.py\npline test/test_datasets_samplers.py\nline test/test_datasets_transforms.py\n--------------------\npline test/test_models.py\npline test/test_models_detection_utils.py\npline test/test_onnx.py\npline test/test_ops.py\npline test/test_quantized_models.py\nline test/test_transforms.py\n--------------------\npline test/test_models_detection_utils.py\npline test/test_onnx.py\npline test/test_ops.py\npline test/test_quantized_models.py\npline test/test_transforms.py\nline test/test_transforms_video.py\n--------------------\npline torchvision/ops/poolers.py\npline torchvision/ops/ps_roi_align.py\npline torchvision/ops/ps_roi_pool.py\npline torchvision/ops/roi_align.py\npline torchvision/ops/roi_pool.py\nline torchvision/transforms/__init__.py\n--------------------\npline torchvision/ops/ps_roi_align.py\npline torchvision/ops/ps_roi_pool.py\npline torchvision/ops/roi_align.py\npline torchvision/ops/roi_pool.py\npline torchvision/transforms/__init__.py\nline torchvision/transforms/_functional_video.py\n--------------------\npline torchvision/ops/ps_roi_pool.py\npline torchvision/ops/roi_align.py\npline torchvision/ops/roi_pool.py\npline torchvision/transforms/__init__.py\npline torchvision/transforms/_functional_video.py\nline torchvision/transforms/_transforms_video.py\n--------------------\npline torchvision/ops/roi_align.py\npline torchvision/ops/roi_pool.py\npline torchvision/transforms/__init__.py\npline torchvision/transforms/_functional_video.py\npline torchvision/transforms/_transforms_video.py\nline torchvision/transforms/functional.py\n--------------------\npline torchvision/ops/roi_pool.py\npline torchvision/transforms/__init__.py\npline torchvision/transforms/_functional_video.py\npline torchvision/transforms/_transforms_video.py\npline torchvision/transforms/functional.py\nline torchvision/transforms/functional_tensor.py\n--------------------\npline torchvision/transforms/__init__.py\npline torchvision/transforms/_functional_video.py\npline torchvision/transforms/_transforms_video.py\npline torchvision/transforms/functional.py\npline torchvision/transforms/functional_tensor.py\nline torchvision/transforms/transforms.py--------------------\nhello world\n44\n"
    }
   ],
   "source": [
    "from collections import deque\n",
    "\n",
    "def search(lines, pattern, history=5):\n",
    "    previous_lines = deque(maxlen=history)\n",
    "    for line in lines:\n",
    "        if pattern in line:\n",
    "            yield line, previous_lines\n",
    "        previous_lines.append(line)\n",
    "## Example use on a file\n",
    "if __name__ == '__main__':\n",
    "    with open('SOURCES1.txt') as f:\n",
    "        for line, prevlines in search(f, 'forms',5):\n",
    "            for pline in prevlines:\n",
    "                print(\"pline\",pline, end='')\n",
    "            print(\"line\",line, end='')\n",
    "            print('-'*20)\n",
    "        print(\"hello world\")\n",
    "        print(len(pline))"
   ]
  },
  {
   "cell_type": "code",
   "execution_count": 15,
   "metadata": {},
   "outputs": [
    {
     "name": "stdout",
     "output_type": "stream",
     "text": "[10000000000.0, 434, 323]\n[1e-10, 1, 2]\n"
    }
   ],
   "source": [
    "import heapq\n",
    "nums = [1, 2, 4, 1e10, 1e-10, 23, 323,434,55]\n",
    "print(heapq.nlargest(3, nums))\n",
    "print(heapq.nsmallest(3, nums))"
   ]
  },
  {
   "cell_type": "code",
   "execution_count": 16,
   "metadata": {},
   "outputs": [],
   "source": [
    "portfolio = [ {'name': 'IBM', 'shares': 100, 'price': 91.1}, {'name': 'AAPL', 'shares': 50, 'price': 543.22}, {'name': 'FB', 'shares': 200, 'price': 21.09}, {'name': 'HPQ', 'shares': 35, 'price': 31.75}, {'name': 'YHOO', 'shares': 45, 'price': 16.35}, {'name': 'ACME', 'shares': 75, 'price': 115.65} ]\n",
    "cheap = heapq.nsmallest(3, portfolio, key = lambda s:s['price'])\n",
    "expensive = heapq.nlargest(3, portfolio, key = lambda s: s['price'])"
   ]
  },
  {
   "cell_type": "code",
   "execution_count": 17,
   "metadata": {},
   "outputs": [
    {
     "data": {
      "text/plain": "[{'name': 'YHOO', 'shares': 45, 'price': 16.35},\n {'name': 'FB', 'shares': 200, 'price': 21.09},\n {'name': 'HPQ', 'shares': 35, 'price': 31.75}]"
     },
     "execution_count": 17,
     "metadata": {},
     "output_type": "execute_result"
    }
   ],
   "source": [
    "cheap"
   ]
  },
  {
   "cell_type": "markdown",
   "metadata": {},
   "source": [
    "cheap; expesive"
   ]
  },
  {
   "cell_type": "markdown",
   "metadata": {},
   "source": [
    "## 1.5 实现一个优先级队列\n",
    "by use heapq"
   ]
  },
  {
   "cell_type": "code",
   "execution_count": null,
   "metadata": {},
   "outputs": [],
   "source": [
    "import heapq\n",
    "\n",
    "class PriorityQueue:\n",
    "    def __init__(self):\n",
    "        self._queue = []\n",
    "        self._index = 0\n",
    "\n",
    "    def push(self, item, priority):\n",
    "        heapq.heappush(self._queue, (-priority, self._index, item))\n",
    "        self._index += 1\n",
    "\n",
    "    def pop(self):\n",
    "        return heapq.heappop(self._queue)[-1]\n"
   ]
  },
  {
   "cell_type": "code",
   "execution_count": null,
   "metadata": {},
   "outputs": [],
   "source": [
    "class Item:\n",
    "    def __init__(self, name):\n",
    "        self.name = name\n",
    "    def __repr__(self):\n",
    "        return 'Item{!r}'.format(self.name)\n",
    "\n",
    ""
   ]
  },
  {
   "cell_type": "code",
   "execution_count": 39,
   "metadata": {},
   "outputs": [
    {
     "data": {
      "text/plain": "Item'foo'"
     },
     "execution_count": 39,
     "metadata": {},
     "output_type": "execute_result"
    }
   ],
   "source": [
    "Item('foo')"
   ]
  },
  {
   "cell_type": "code",
   "execution_count": 40,
   "metadata": {},
   "outputs": [],
   "source": [
    "q = PriorityQueue()\n",
    "q.push(Item('foo'),1)\n",
    "q.push(Item('bar'),5)\n",
    "q.push(Item('gsd'),4)\n",
    "q.push(Item('grok'),1)"
   ]
  },
  {
   "cell_type": "code",
   "execution_count": 41,
   "metadata": {},
   "outputs": [
    {
     "data": {
      "text/plain": "Item'bar'"
     },
     "execution_count": 41,
     "metadata": {},
     "output_type": "execute_result"
    }
   ],
   "source": [
    "q.pop()"
   ]
  },
  {
   "cell_type": "markdown",
   "metadata": {},
   "source": [
    "## 1.6 字典中的键映射多个值"
   ]
  },
  {
   "cell_type": "code",
   "execution_count": 39,
   "metadata": {},
   "outputs": [
    {
     "name": "stdout",
     "output_type": "stream",
     "text": "\n defaultdict(<function constant_dactory.<locals>.<lambda> at 0x113a150e0>, {})\n\n defaultdict(<function constant_dactory.<locals>.<lambda> at 0x113a150e0>, {'name': 'john', 'action': 'ran'})\n\n john ran to <missing>\n"
    }
   ],
   "source": [
    "from collections import defaultdict\n",
    "def constant_dactory(value):\n",
    "    return lambda: value\n",
    "d = defaultdict(constant_dactory('<missing>'))\n",
    "print('\\n',d)\n",
    "d.update(name='john', action='ran')\n",
    "print('\\n', d)\n",
    "print('\\n', '{0[name]} {0[action]} to {0[object]}'.format(d))\n"
   ]
  },
  {
   "cell_type": "code",
   "execution_count": 47,
   "metadata": {},
   "outputs": [],
   "source": [
    "from  collections import defaultdict\n",
    "d = defaultdict(list)\n",
    "d['a'].append(1)\n",
    "d['a'].append(2)\n",
    "d['a'].append(2)\n",
    "d['b'].append(3)\n",
    "m = defaultdict(set)\n",
    "m['a'].add(10)\n",
    "m['a'].add(10)\n",
    "m['a'].add(5)\n",
    "m['b'].add(3)"
   ]
  },
  {
   "cell_type": "markdown",
   "metadata": {},
   "source": [
    "## 1.7 字典顺序"
   ]
  },
  {
   "cell_type": "code",
   "execution_count": 52,
   "metadata": {},
   "outputs": [
    {
     "name": "stdout",
     "output_type": "stream",
     "text": "foo 1\nbar 2\nspam 3\ngrok 4\nOrderedDict([('foo', 1), ('bar', 2), ('spam', 3), ('grok', 4)])\n"
    }
   ],
   "source": [
    "from collections import OrderedDict\n",
    "d = OrderedDict()\n",
    "d['foo'] = 1\n",
    "d['bar'] = 2\n",
    "d['spam'] = 3\n",
    "d['grok'] = 4\n",
    "for key in d:\n",
    "    print(key, d[key])\n",
    "print(d)"
   ]
  },
  {
   "cell_type": "code",
   "execution_count": null,
   "metadata": {},
   "outputs": [],
   "source": []
  },
  {
   "cell_type": "code",
   "execution_count": null,
   "metadata": {},
   "outputs": [],
   "source": []
  },
  {
   "cell_type": "code",
   "execution_count": null,
   "metadata": {},
   "outputs": [],
   "source": []
  },
  {
   "cell_type": "code",
   "execution_count": null,
   "metadata": {},
   "outputs": [],
   "source": []
  },
  {
   "cell_type": "code",
   "execution_count": null,
   "metadata": {},
   "outputs": [],
   "source": []
  },
  {
   "cell_type": "code",
   "execution_count": null,
   "metadata": {},
   "outputs": [],
   "source": []
  },
  {
   "cell_type": "code",
   "execution_count": null,
   "metadata": {},
   "outputs": [],
   "source": []
  },
  {
   "cell_type": "markdown",
   "metadata": {},
   "source": [
    "# 第四章： 迭代器与生成器\n",
    "## 4.1 手动遍历迭代器\n",
    "问题： 你想遍历一个可迭代对象中的所有元素，但是不想使用for循环\n",
    "方案： 使用next（）函数并在代码中捕获StopIteration异常。"
   ]
  },
  {
   "cell_type": "code",
   "execution_count": 5,
   "metadata": {},
   "outputs": [],
   "source": [
    "def manual_iter():\n",
    "    with open('SOURCES1.txt') as f:\n",
    "        try:\n",
    "            while True:\n",
    "                line = next(f)\n",
    "                print(line, end='')\n",
    "        except StopIteration:\n",
    "            pass \n"
   ]
  },
  {
   "cell_type": "code",
   "execution_count": 11,
   "metadata": {},
   "outputs": [
    {
     "name": "stdout",
     "output_type": "stream",
     "text": "LICENSE\nMANIFEST.in\nREADME.rst\nsetup.cfg\nsetup.py\n/Users/distiller/miniconda3/conda-bld/torchvision_1578960661153/work/torchvision/csrc/vision.cpp\n/Users/distiller/miniconda3/conda-bld/torchvision_1578960661153/work/torchvision/csrc/cpu/DeformConv_cpu.cpp\n/Users/distiller/miniconda3/conda-bld/torchvision_1578960661153/work/torchvision/csrc/cpu/PSROIAlign_cpu.cpp\n/Users/distiller/miniconda3/conda-bld/torchvision_1578960661153/work/torchvision/csrc/cpu/PSROIPool_cpu.cpp\n/Users/distiller/miniconda3/conda-bld/torchvision_1578960661153/work/torchvision/csrc/cpu/ROIAlign_cpu.cpp\n/Users/distiller/miniconda3/conda-bld/torchvision_1578960661153/work/torchvision/csrc/cpu/ROIPool_cpu.cpp\n/Users/distiller/miniconda3/conda-bld/torchvision_1578960661153/work/torchvision/csrc/cpu/nms_cpu.cpp\ntest/test_backbone_utils.py\ntest/test_cpp_models.py\ntest/test_datasets.py\ntest/test_datasets_samplers.py\ntest/test_datasets_transforms.py\ntest/test_datasets_utils.py\ntest/test_datasets_video_utils.py\ntest/test_datasets_video_utils_opt.py\ntest/test_functional_tensor.py\ntest/test_hub.py\ntest/test_io.py\ntest/test_io_opt.py\ntest/test_models.py\ntest/test_models_detection_utils.py\ntest/test_onnx.py\ntest/test_ops.py\ntest/test_quantized_models.py\ntest/test_transforms.py\ntest/test_transforms_video.py\ntest/test_utils.py\ntest/test_video_reader.py\ntorchvision/__init__.py\ntorchvision/extension.py\ntorchvision/utils.py\ntorchvision/version.py\ntorchvision.egg-info/PKG-INFO\ntorchvision.egg-info/SOURCES.txt\ntorchvision.egg-info/dependency_links.txt\ntorchvision.egg-info/not-zip-safe\ntorchvision.egg-info/requires.txt\ntorchvision.egg-info/top_level.txt\ntorchvision/datasets/__init__.py\ntorchvision/datasets/caltech.py\ntorchvision/datasets/celeba.py\ntorchvision/datasets/cifar.py\ntorchvision/datasets/cityscapes.py\ntorchvision/datasets/coco.py\ntorchvision/datasets/fakedata.py\ntorchvision/datasets/flickr.py\ntorchvision/datasets/folder.py\ntorchvision/datasets/hmdb51.py\ntorchvision/datasets/imagenet.py\ntorchvision/datasets/kinetics.py\ntorchvision/datasets/lsun.py\ntorchvision/datasets/mnist.py\ntorchvision/datasets/omniglot.py\ntorchvision/datasets/phototour.py\ntorchvision/datasets/sbd.py\ntorchvision/datasets/sbu.py\ntorchvision/datasets/semeion.py\ntorchvision/datasets/stl10.py\ntorchvision/datasets/svhn.py\ntorchvision/datasets/ucf101.py\ntorchvision/datasets/usps.py\ntorchvision/datasets/utils.py\ntorchvision/datasets/video_utils.py\ntorchvision/datasets/vision.py\ntorchvision/datasets/voc.py\ntorchvision/datasets/samplers/__init__.py\ntorchvision/datasets/samplers/clip_sampler.py\ntorchvision/io/__init__.py\ntorchvision/io/_video_opt.py\ntorchvision/io/video.py\ntorchvision/models/__init__.py\ntorchvision/models/_utils.py\ntorchvision/models/alexnet.py\ntorchvision/models/densenet.py\ntorchvision/models/googlenet.py\ntorchvision/models/inception.py\ntorchvision/models/mnasnet.py\ntorchvision/models/mobilenet.py\ntorchvision/models/resnet.py\ntorchvision/models/shufflenetv2.py\ntorchvision/models/squeezenet.py\ntorchvision/models/utils.py\ntorchvision/models/vgg.py\ntorchvision/models/detection/__init__.py\ntorchvision/models/detection/_utils.py\ntorchvision/models/detection/backbone_utils.py\ntorchvision/models/detection/faster_rcnn.py\ntorchvision/models/detection/generalized_rcnn.py\ntorchvision/models/detection/image_list.py\ntorchvision/models/detection/keypoint_rcnn.py\ntorchvision/models/detection/mask_rcnn.py\ntorchvision/models/detection/roi_heads.py\ntorchvision/models/detection/rpn.py\ntorchvision/models/detection/transform.py\ntorchvision/models/quantization/__init__.py\ntorchvision/models/quantization/googlenet.py\ntorchvision/models/quantization/inception.py\ntorchvision/models/quantization/mobilenet.py\ntorchvision/models/quantization/resnet.py\ntorchvision/models/quantization/shufflenetv2.py\ntorchvision/models/quantization/utils.py\ntorchvision/models/segmentation/__init__.py\ntorchvision/models/segmentation/_utils.py\ntorchvision/models/segmentation/deeplabv3.py\ntorchvision/models/segmentation/fcn.py\ntorchvision/models/segmentation/segmentation.py\ntorchvision/models/video/__init__.py\ntorchvision/models/video/resnet.py\ntorchvision/ops/__init__.py\ntorchvision/ops/_register_onnx_ops.py\ntorchvision/ops/_utils.py\ntorchvision/ops/boxes.py\ntorchvision/ops/deform_conv.py\ntorchvision/ops/feature_pyramid_network.py\ntorchvision/ops/misc.py\ntorchvision/ops/new_empty_tensor.py\ntorchvision/ops/poolers.py\ntorchvision/ops/ps_roi_align.py\ntorchvision/ops/ps_roi_pool.py\ntorchvision/ops/roi_align.py\ntorchvision/ops/roi_pool.py\ntorchvision/transforms/__init__.py\ntorchvision/transforms/_functional_video.py\ntorchvision/transforms/_transforms_video.py\ntorchvision/transforms/functional.py\ntorchvision/transforms/functional_tensor.py\ntorchvision/transforms/transforms.py"
    },
    {
     "ename": "StopIteration",
     "evalue": "",
     "output_type": "error",
     "traceback": [
      "\u001b[0;31m---------------------------------------------------------------------------\u001b[0m",
      "\u001b[0;31mStopIteration\u001b[0m                             Traceback (most recent call last)",
      "\u001b[0;32m<ipython-input-11-8b44c21d2e78>\u001b[0m in \u001b[0;36m<module>\u001b[0;34m\u001b[0m\n\u001b[1;32m      1\u001b[0m \u001b[0;32mwith\u001b[0m \u001b[0mopen\u001b[0m\u001b[0;34m(\u001b[0m\u001b[0;34m'SOURCES1.txt'\u001b[0m\u001b[0;34m)\u001b[0m \u001b[0;32mas\u001b[0m \u001b[0mf\u001b[0m\u001b[0;34m:\u001b[0m\u001b[0;34m\u001b[0m\u001b[0;34m\u001b[0m\u001b[0m\n\u001b[1;32m      2\u001b[0m     \u001b[0;32mwhile\u001b[0m \u001b[0;32mTrue\u001b[0m\u001b[0;34m:\u001b[0m\u001b[0;34m\u001b[0m\u001b[0;34m\u001b[0m\u001b[0m\n\u001b[0;32m----> 3\u001b[0;31m         \u001b[0mline\u001b[0m \u001b[0;34m=\u001b[0m \u001b[0mnext\u001b[0m\u001b[0;34m(\u001b[0m\u001b[0mf\u001b[0m\u001b[0;34m)\u001b[0m\u001b[0;34m\u001b[0m\u001b[0;34m\u001b[0m\u001b[0m\n\u001b[0m\u001b[1;32m      4\u001b[0m         \u001b[0;32mif\u001b[0m \u001b[0mline\u001b[0m \u001b[0;32mis\u001b[0m \u001b[0;32mNone\u001b[0m\u001b[0;34m:\u001b[0m\u001b[0;34m\u001b[0m\u001b[0;34m\u001b[0m\u001b[0m\n\u001b[1;32m      5\u001b[0m             \u001b[0;32mbreak\u001b[0m\u001b[0;34m\u001b[0m\u001b[0;34m\u001b[0m\u001b[0m\n",
      "\u001b[0;31mStopIteration\u001b[0m: "
     ]
    }
   ],
   "source": [
    "with open('SOURCES1.txt') as f:\n",
    "    while True:\n",
    "        line = next(f)\n",
    "        if line is None:\n",
    "            break\n",
    "        print(line, end='')\n"
   ]
  },
  {
   "cell_type": "markdown",
   "metadata": {},
   "source": [
    "## 4.2 代理迭代\n",
    "问题： 你构建了一个自定义容器对象，里面包含有列表，元祖或其他可迭代对象。你想直接在你的这个新容器上执行迭代操作\n",
    "方法： 实际上你只需要一个__iter__() 方法， 将迭代操作代理到容器内部的对象上"
   ]
  },
  {
   "cell_type": "code",
   "execution_count": 17,
   "metadata": {},
   "outputs": [],
   "source": [
    "class Node:\n",
    "    def __init__(self, value):\n",
    "        self._value = value\n",
    "        self._children = []\n",
    "    def __repr__(self):\n",
    "        return 'Node({!r})'.format(self._value)\n",
    "    def add_children(self, node):\n",
    "        self._children.append(node)\n",
    "    def __iter__(self):\n",
    "        return iter(self._children)\n"
   ]
  },
  {
   "cell_type": "code",
   "execution_count": 19,
   "metadata": {},
   "outputs": [
    {
     "name": "stdout",
     "output_type": "stream",
     "text": "Node(1)\nNode(2)\n"
    }
   ],
   "source": [
    "# Example\n",
    "if __name__ == '__main__':\n",
    "    root = Node(0)\n",
    "    child1 = Node(1)\n",
    "    child2 = Node(2)\n",
    "    root.add_children(child1)\n",
    "    root.add_children(child2)\n",
    "    # Out puts Node(1) , Node(2)\n",
    "    for ch in root:\n",
    "        print(ch)"
   ]
  },
  {
   "cell_type": "markdown",
   "metadata": {},
   "source": [
    "## 4.3 使用生成器创建新的迭代模式"
   ]
  },
  {
   "cell_type": "code",
   "execution_count": 27,
   "metadata": {},
   "outputs": [
    {
     "data": {
      "text/plain": "[1, 6, 11, 16, 21, 26, 31, 36, 41, 46, 51, 56, 61, 66, 71, 76, 81, 86, 91, 96]"
     },
     "execution_count": 27,
     "metadata": {},
     "output_type": "execute_result"
    }
   ],
   "source": [
    "list(range(1,100,5))"
   ]
  },
  {
   "cell_type": "code",
   "execution_count": 30,
   "metadata": {},
   "outputs": [],
   "source": [
    "def frange(start, stop, increment):\n",
    "    x = start \n",
    "    while x < stop :\n",
    "        yield x\n",
    "        x += increment"
   ]
  },
  {
   "cell_type": "code",
   "execution_count": 31,
   "metadata": {},
   "outputs": [
    {
     "name": "stdout",
     "output_type": "stream",
     "text": "0\n0.5\n1.0\n1.5\n2.0\n2.5\n3.0\n3.5\n"
    }
   ],
   "source": [
    "for n in frange(0,4,0.5):\n",
    "    print(n)"
   ]
  },
  {
   "cell_type": "code",
   "execution_count": 32,
   "metadata": {},
   "outputs": [
    {
     "data": {
      "text/plain": "[1, 6, 11, 16, 21, 26, 31, 36, 41, 46, 51, 56, 61, 66, 71, 76, 81, 86, 91, 96]"
     },
     "execution_count": 32,
     "metadata": {},
     "output_type": "execute_result"
    }
   ],
   "source": [
    "list(frange(1,100,5))"
   ]
  },
  {
   "cell_type": "code",
   "execution_count": 34,
   "metadata": {},
   "outputs": [],
   "source": [
    "def countdown(n):\n",
    "    print(\"Starting to count from\", n)\n",
    "    while n > 0:\n",
    "        yield n\n",
    "        n -= 1\n",
    "    else :\n",
    "        print(\"Done\")"
   ]
  },
  {
   "cell_type": "code",
   "execution_count": 36,
   "metadata": {},
   "outputs": [],
   "source": [
    "c = countdown(5)"
   ]
  },
  {
   "cell_type": "code",
   "execution_count": 44,
   "metadata": {},
   "outputs": [
    {
     "name": "stdout",
     "output_type": "stream",
     "text": "Done\n"
    },
    {
     "ename": "StopIteration",
     "evalue": "",
     "output_type": "error",
     "traceback": [
      "\u001b[0;31m---------------------------------------------------------------------------\u001b[0m",
      "\u001b[0;31mStopIteration\u001b[0m                             Traceback (most recent call last)",
      "\u001b[0;32m<ipython-input-44-e846efec376d>\u001b[0m in \u001b[0;36m<module>\u001b[0;34m\u001b[0m\n\u001b[0;32m----> 1\u001b[0;31m \u001b[0mnext\u001b[0m\u001b[0;34m(\u001b[0m\u001b[0mc\u001b[0m\u001b[0;34m)\u001b[0m\u001b[0;34m\u001b[0m\u001b[0;34m\u001b[0m\u001b[0m\n\u001b[0m",
      "\u001b[0;31mStopIteration\u001b[0m: "
     ]
    }
   ],
   "source": [
    "next(c)"
   ]
  },
  {
   "cell_type": "markdown",
   "metadata": {},
   "source": [
    "## 4.4 实现迭代器协议"
   ]
  },
  {
   "cell_type": "code",
   "execution_count": 70,
   "metadata": {},
   "outputs": [],
   "source": [
    "class Node:\n",
    "    def __init__(self, value):\n",
    "        self._value = value \n",
    "        self._children = []\n",
    "    def __repr__(self):\n",
    "        return 'Noed({!r})'.format(self._value)\n",
    "    def add_child(self, node):\n",
    "        self._children.append(node)\n",
    "    def __iter__(self):\n",
    "        return iter(self._children)\n",
    "    def depth_first(self):\n",
    "        yield self\n",
    "        for c in self:\n",
    "            yield from c.depth_first()\n"
   ]
  },
  {
   "cell_type": "code",
   "execution_count": 80,
   "metadata": {},
   "outputs": [
    {
     "name": "stdout",
     "output_type": "stream",
     "text": "Noed(0)\nNoed(1)\nNoed(8)\nNoed(2)\nNoed(5)\nNoed(3)\nNoed(4)\nNoed(2)\nNoed(5)\n"
    }
   ],
   "source": [
    "## example \n",
    "if __name__ == '__main__':\n",
    "    root = Node(0)\n",
    "    child1 = Node(1)\n",
    "    child2 = Node(2)\n",
    "    root.add_child(child1)\n",
    "    root.add_child(child2)\n",
    "    child1.add_child(Node(8))\n",
    "    child1.add_child(child2)\n",
    "    child1.add_child(Node(3))\n",
    "    child1.add_child(Node(4))\n",
    "    child2.add_child(Node(5))\n",
    "    \n",
    "    for ch in root.depth_first():\n",
    "        print(ch)"
   ]
  },
  {
   "cell_type": "code",
   "execution_count": 83,
   "metadata": {},
   "outputs": [
    {
     "name": "stdout",
     "output_type": "stream",
     "text": "Noed(0)\nNoed(1)\nNoed(8)\nNoed(2)\nNoed(5)\nNoed(3)\nNoed(4)\nNoed(2)\nNoed(5)\n"
    }
   ],
   "source": [
    "class Node2:\n",
    "    def __init__(self, value):\n",
    "        self._value = value\n",
    "        self._children = []\n",
    "    def __repr__(self):\n",
    "        return 'Node({!r})'.format(self._vlaue)\n",
    "    def add_childe(self, node):\n",
    "        self._children.append(node)\n",
    "    def __iter__(self):\n",
    "        return iter(self._children)\n",
    "    def depth_first(self):\n",
    "        return DepthFirstIterator(self)\n",
    "\n",
    "class DepthFirstIterator(object):\n",
    "    \"\"\"\n",
    "    Depth-first traversal\n",
    "    \"\"\"\n",
    "    def __init__(self, start_node):\n",
    "        self._node = start_node\n",
    "        self._childrent_iter = None\n",
    "        self._child_iter = None\n",
    "    def __iter__(self):\n",
    "        return self\n",
    "    def __next__(self):\n",
    "        # Return myself if just started; create an iterator for children\n",
    "        if self._children_iter is None:\n",
    "            self._child_iter = iter(self._node)\n",
    "            return self._node\n",
    "        # If processing a child, return its next item\n",
    "        elif self._child_iter:\n",
    "            try:\n",
    "                nextchild = next(self._child_iter)\n",
    "                return nextchild\n",
    "            except StopIteration:\n",
    "                self._child_iter = None\n",
    "                return next(self)\n",
    "        # Advance to the next child and start its iteration\n",
    "        else:\n",
    "            self._child_iter = next(self._childrent_iter).depth_first()\n",
    "            return next(self)\n",
    "## example \n",
    "if __name__ == '__main__':\n",
    "    root = Node(0)\n",
    "    child1 = Node(1)\n",
    "    child2 = Node(2)\n",
    "    root.add_child(child1)\n",
    "    root.add_child(child2)\n",
    "    child1.add_child(Node(8))\n",
    "    child1.add_child(child2)\n",
    "    child1.add_child(Node(3))\n",
    "    child1.add_child(Node(4))\n",
    "    child2.add_child(Node(5))\n",
    "    \n",
    "    for ch in root.depth_first():\n",
    "        print(ch)"
   ]
  },
  {
   "cell_type": "code",
   "execution_count": 97,
   "metadata": {},
   "outputs": [
    {
     "name": "stdout",
     "output_type": "stream",
     "text": "1\n2\n3\n4\n5\n6\n7\n8\n9\n10\n11\n12\n13\n14\n15\n16\n17\n18\n19\n20\n21\n22\n23\n24\n25\n26\n27\n28\n29\n30\n"
    }
   ],
   "source": [
    "class Countdown:\n",
    "    def __init__(self, start):\n",
    "        self.start = start\n",
    "    # Forward iterator\n",
    "    def __iter__(self):\n",
    "        n = self.start\n",
    "        while n > 0:\n",
    "            yield n\n",
    "            n -= 1\n",
    "    # Reverse iterator\n",
    "    def __reversed__(self):\n",
    "        n = 1\n",
    "        while n <= self.start :\n",
    "            yield n\n",
    "            n += 1\n",
    "\n",
    "for rr in reversed(Countdown(30)):\n",
    "    print(rr)\n",
    "#for rr in Countdown(30):\n",
    "   # print(rr)\n",
    "        "
   ]
  },
  {
   "cell_type": "code",
   "execution_count": null,
   "metadata": {},
   "outputs": [],
   "source": []
  },
  {
   "cell_type": "code",
   "execution_count": null,
   "metadata": {},
   "outputs": [],
   "source": []
  },
  {
   "cell_type": "code",
   "execution_count": null,
   "metadata": {},
   "outputs": [],
   "source": []
  }
 ],
 "metadata": {
  "kernelspec": {
   "display_name": "tfpy3",
   "language": "python",
   "name": "tfpy3"
  },
  "language_info": {
   "codemirror_mode": {
    "name": "ipython",
    "version": 3
   },
   "file_extension": ".py",
   "mimetype": "text/x-python",
   "name": "python",
   "nbconvert_exporter": "python",
   "pygments_lexer": "ipython3",
   "version": "3.7.4-final"
  }
 },
 "nbformat": 4,
 "nbformat_minor": 4
}