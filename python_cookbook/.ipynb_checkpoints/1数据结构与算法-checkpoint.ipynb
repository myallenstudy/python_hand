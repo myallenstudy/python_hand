{
 "cells": [
  {
   "cell_type": "markdown",
   "metadata": {},
   "source": [
    "## 1.1 解压序列赋值给多个变量\n",
    "问题\n",
    "\n",
    "现在有一个包含 N 个元素的元组或者是序列，怎样将它里面的值解压后同时赋值 给 N 个变量？\n",
    "\n",
    "解决方案\n",
    "\n",
    "任何的序列（或者是可迭代对象）可以通过一个简单的赋值语句解压并赋值给多 个变量。唯一的前提就是变量的数量必须跟序列元素的数量是一样的。"
   ]
  },
  {
   "cell_type": "code",
   "execution_count": 1,
   "metadata": {},
   "outputs": [],
   "source": [
    "data = ['asdf', 32, 88.3, (2012, 12, 21)]\n",
    "_, share, _, (year, month, day) = data"
   ]
  },
  {
   "cell_type": "code",
   "execution_count": 5,
   "metadata": {},
   "outputs": [
    {
     "data": {
      "text/plain": [
       "21"
      ]
     },
     "execution_count": 5,
     "metadata": {},
     "output_type": "execute_result"
    }
   ],
   "source": [
    "day"
   ]
  },
  {
   "cell_type": "markdown",
   "metadata": {},
   "source": [
    "## 1.2 解压可迭代对象赋值给多个变量\n",
    "**？** 如果一个可迭代对象的元素超过变量个数时， 会抛出一个valueerror。 那么怎么样才能从这个可迭代对象中解压出N个元素出来？\n",
    "**-** Python 的 星号表达式可以来解决。比如，你在学一门课程，在学期末的时候你想统计一下家庭作业的平均成绩，但是排除掉第一个和最后一个分数。 如果一共四个可以手动排除，但如果有24个呢？ then * works\n"
   ]
  },
  {
   "cell_type": "code",
   "execution_count": 23,
   "metadata": {},
   "outputs": [],
   "source": [
    "def drop_first_last(grades):\n",
    "    first, *middle, last = grades\n",
    "    #first, **middle, lsat = grade\n",
    "    return middle\n",
    "\n",
    "midlle= drop_first_last({'toe':11,'sdf': 22,'FD': 33, 'dsf':44,'dsf': 55})"
   ]
  },
  {
   "cell_type": "code",
   "execution_count": 24,
   "metadata": {},
   "outputs": [
    {
     "data": {
      "text/plain": [
       "['sdf', 'FD']"
      ]
     },
     "execution_count": 24,
     "metadata": {},
     "output_type": "execute_result"
    }
   ],
   "source": [
    "midlle"
   ]
  },
  {
   "cell_type": "markdown",
   "metadata": {},
   "source": [
    "* work in 迭代元素为可变长元祖的序列时，下面是一个带有标签的元祖序列"
   ]
  },
  {
   "cell_type": "code",
   "execution_count": 31,
   "metadata": {},
   "outputs": [
    {
     "name": "stdout",
     "output_type": "stream",
     "text": [
      "foo 1 2 2 3 4\n",
      "bar hello s sdf ('dfs', 1)\n",
      "foo 6 6\n"
     ]
    }
   ],
   "source": [
    "records = [\n",
    "    ('foo', 1, 2,2, 3, 4),\n",
    "    ('bar', 'hello', 's', 'sdf',('dfs',1)),\n",
    "    ('foo', 6, 6),\n",
    "]\n",
    "\n",
    "def def_foo(*x):\n",
    "    print('foo',*x)\n",
    "def def_bar(*s):\n",
    "    print('bar',*s)\n",
    "    \n",
    "for tag, *tags in records:\n",
    "    if tag == 'foo':\n",
    "        def_foo(*tags)\n",
    "    elif tag == 'bar':\n",
    "        def_bar(*tags)"
   ]
  },
  {
   "cell_type": "code",
   "execution_count": 49,
   "metadata": {},
   "outputs": [],
   "source": [
    "line = 'nobody:*:-2:-2:Unprivileged User:/var/empty:/usr/bin/false:sdfdf/'\n",
    "\n",
    "uname, *fields, homedir,ssh,  sh = line.split('/')"
   ]
  },
  {
   "cell_type": "code",
   "execution_count": 53,
   "metadata": {},
   "outputs": [
    {
     "data": {
      "text/plain": [
       "'bin'"
      ]
     },
     "execution_count": 53,
     "metadata": {},
     "output_type": "execute_result"
    }
   ],
   "source": [
    "homedir"
   ]
  },
  {
   "cell_type": "code",
   "execution_count": 62,
   "metadata": {},
   "outputs": [],
   "source": [
    "record = (('ACME',2,33,'sdf'), 50, 123.45,'sdf',1, 'sdf',2,(12, 18,23,'dsf', 2012))\n",
    "(name,*_), *_, (*_, year) =record"
   ]
  },
  {
   "cell_type": "code",
   "execution_count": 64,
   "metadata": {},
   "outputs": [
    {
     "data": {
      "text/plain": [
       "2012"
      ]
     },
     "execution_count": 64,
     "metadata": {},
     "output_type": "execute_result"
    }
   ],
   "source": [
    "year"
   ]
  },
  {
   "cell_type": "markdown",
   "metadata": {},
   "source": [
    "use * 可以很快将一个列表分成前后俩个部分"
   ]
  },
  {
   "cell_type": "code",
   "execution_count": 84,
   "metadata": {},
   "outputs": [],
   "source": [
    "items = [1, 10, 7, 4,5,9]\n",
    "head, *tail = items"
   ]
  },
  {
   "cell_type": "code",
   "execution_count": 85,
   "metadata": {},
   "outputs": [
    {
     "data": {
      "text/plain": [
       "[10, 7, 4, 5, 9]"
      ]
     },
     "execution_count": 85,
     "metadata": {},
     "output_type": "execute_result"
    }
   ],
   "source": [
    "tail"
   ]
  },
  {
   "cell_type": "markdown",
   "metadata": {},
   "source": [
    "采用这种分割语法实现递归算法"
   ]
  },
  {
   "cell_type": "raw",
   "metadata": {},
   "source": [
    "import sys\n",
    "sys.setrecursionlimit(1000000)\n",
    "def sum(tiems):\n",
    "    head, *tail = items\n",
    "    return head + sum(tail) if tail else head\n",
    "sum(items)"
   ]
  },
  {
   "cell_type": "markdown",
   "metadata": {},
   "source": [
    "## 1.3 保留最后N个元素\n",
    "问题\n",
    "\n",
    "在迭代操作或者其他操作的时候，怎样只保留最后有限几个元素的历史记录？\n",
    "\n",
    "解决方案\n",
    "\n",
    "保留有限历史记录正是 collections.deque 大显身手的时候。比如，下面的代码 在多行上面做简单的文本匹配，并返回匹配所在行的最后 N 行："
   ]
  },
  {
   "cell_type": "code",
   "execution_count": null,
   "metadata": {},
   "outputs": [],
   "source": [
    "from collections import deque"
   ]
  },
  {
   "cell_type": "code",
   "execution_count": null,
   "metadata": {},
   "outputs": [],
   "source": []
  }
 ],
 "metadata": {
  "kernelspec": {
   "display_name": "tfpy3",
   "language": "python",
   "name": "tfpy3"
  },
  "language_info": {
   "codemirror_mode": {
    "name": "ipython",
    "version": 3
   },
   "file_extension": ".py",
   "mimetype": "text/x-python",
   "name": "python",
   "nbconvert_exporter": "python",
   "pygments_lexer": "ipython3",
   "version": "3.7.4"
  }
 },
 "nbformat": 4,
 "nbformat_minor": 4
}
